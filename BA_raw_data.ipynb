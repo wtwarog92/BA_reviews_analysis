{
 "cells": [
  {
   "cell_type": "code",
   "execution_count": 1,
   "id": "27ed7072",
   "metadata": {},
   "outputs": [],
   "source": [
    "#Importing libraries\n",
    "from bs4 import BeautifulSoup\n",
    "import requests\n",
    "import pandas as pd"
   ]
  },
  {
   "cell_type": "code",
   "execution_count": 2,
   "id": "3e309b4d",
   "metadata": {},
   "outputs": [],
   "source": [
    "#Link needed to collect data\n",
    "link = \"https://www.airlinequality.com/airline-reviews/british-airways\""
   ]
  },
  {
   "cell_type": "code",
   "execution_count": 3,
   "id": "90e5adc6",
   "metadata": {},
   "outputs": [
    {
     "name": "stdout",
     "output_type": "stream",
     "text": [
      "Scraping page 1\n",
      "   ---> 100 total reviews\n",
      "Scraping page 2\n",
      "   ---> 200 total reviews\n",
      "Scraping page 3\n",
      "   ---> 300 total reviews\n",
      "Scraping page 4\n",
      "   ---> 400 total reviews\n",
      "Scraping page 5\n",
      "   ---> 500 total reviews\n",
      "Scraping page 6\n",
      "   ---> 600 total reviews\n",
      "Scraping page 7\n",
      "   ---> 700 total reviews\n",
      "Scraping page 8\n",
      "   ---> 800 total reviews\n",
      "Scraping page 9\n",
      "   ---> 900 total reviews\n",
      "Scraping page 10\n",
      "   ---> 1000 total reviews\n",
      "Scraping page 11\n",
      "   ---> 1100 total reviews\n",
      "Scraping page 12\n",
      "   ---> 1200 total reviews\n",
      "Scraping page 13\n",
      "   ---> 1300 total reviews\n",
      "Scraping page 14\n",
      "   ---> 1400 total reviews\n",
      "Scraping page 15\n",
      "   ---> 1500 total reviews\n",
      "Scraping page 16\n",
      "   ---> 1600 total reviews\n",
      "Scraping page 17\n",
      "   ---> 1700 total reviews\n",
      "Scraping page 18\n",
      "   ---> 1800 total reviews\n",
      "Scraping page 19\n",
      "   ---> 1900 total reviews\n",
      "Scraping page 20\n",
      "   ---> 2000 total reviews\n",
      "Scraping page 21\n",
      "   ---> 2100 total reviews\n",
      "Scraping page 22\n",
      "   ---> 2200 total reviews\n",
      "Scraping page 23\n",
      "   ---> 2300 total reviews\n",
      "Scraping page 24\n",
      "   ---> 2400 total reviews\n",
      "Scraping page 25\n",
      "   ---> 2500 total reviews\n"
     ]
    }
   ],
   "source": [
    "#Selecting number of pages and page size\n",
    "pages = 25\n",
    "page_size = 100\n",
    "\n",
    "reviews = []\n",
    "rating_values = []\n",
    "text_subheader = []\n",
    "\n",
    "# for i in range(1, pages + 1):\n",
    "for i in range(1, pages + 1):\n",
    "\n",
    "    print(f\"Scraping page {i}\")\n",
    "\n",
    "    # Create URL to collect links from paginated data\n",
    "    url = f\"{link}/page/{i}/?sortby=post_date%3ADesc&pagesize={page_size}\"\n",
    "\n",
    "    # Collect HTML data from this page\n",
    "    response = requests.get(url)\n",
    "\n",
    "    # Parse content - reviews\n",
    "    content = response.content\n",
    "    parsed_content = BeautifulSoup(content, 'html.parser')\n",
    "    for para in parsed_content.find_all(\"div\", {\"class\": \"text_content\"}):\n",
    "        reviews.append(para.get_text())\n",
    "        \n",
    "    #Get rating value for each review (out of 10)\n",
    "    for rating_value in parsed_content.find_all(\"span\", attrs={\"itemprop\": \"ratingValue\"}):\n",
    "        rating_values.append(rating_value.get_text())\n",
    "        \n",
    "    \n",
    "    #Locating name of reviewer, location and date\n",
    "    for title in parsed_content.find_all(\"h3\", class_=\"text_sub_header userStatusWrapper\"):\n",
    "        text_subheader.append(title.get_text())\n",
    "\n",
    "    \n",
    "    print(f\"   ---> {len(reviews)} total reviews\")"
   ]
  },
  {
   "cell_type": "code",
   "execution_count": 4,
   "id": "b4a687de",
   "metadata": {},
   "outputs": [],
   "source": [
    "# Removing all instances '\\n\\t\\t\\t\\t\\t\\t\\t\\t\\t\\t\\t\\t\\t5' from the rating_values list\n",
    "rating_values_updated = [value for value in rating_values if value != \"\\n\\t\\t\\t\\t\\t\\t\\t\\t\\t\\t\\t\\t\\t5\"]"
   ]
  },
  {
   "cell_type": "code",
   "execution_count": 5,
   "id": "d14e36a5",
   "metadata": {},
   "outputs": [
    {
     "data": {
      "text/html": [
       "<div>\n",
       "<style scoped>\n",
       "    .dataframe tbody tr th:only-of-type {\n",
       "        vertical-align: middle;\n",
       "    }\n",
       "\n",
       "    .dataframe tbody tr th {\n",
       "        vertical-align: top;\n",
       "    }\n",
       "\n",
       "    .dataframe thead th {\n",
       "        text-align: right;\n",
       "    }\n",
       "</style>\n",
       "<table border=\"1\" class=\"dataframe\">\n",
       "  <thead>\n",
       "    <tr style=\"text-align: right;\">\n",
       "      <th></th>\n",
       "      <th>test_subheader</th>\n",
       "      <th>ratings</th>\n",
       "      <th>reviews</th>\n",
       "    </tr>\n",
       "  </thead>\n",
       "  <tbody>\n",
       "    <tr>\n",
       "      <th>0</th>\n",
       "      <td>\\n\\nAbs Ahmed (United Kingdom) 16th February 2023</td>\n",
       "      <td>8</td>\n",
       "      <td>✅ Trip Verified | This was my first time flyin...</td>\n",
       "    </tr>\n",
       "    <tr>\n",
       "      <th>1</th>\n",
       "      <td>\\n\\nArsham Parsi (Canada) 15th February 2023</td>\n",
       "      <td>1</td>\n",
       "      <td>✅ Trip Verified |  Lots of cancellations and d...</td>\n",
       "    </tr>\n",
       "    <tr>\n",
       "      <th>2</th>\n",
       "      <td>\\n\\nKeat Tan (United Kingdom) 7th February 2023</td>\n",
       "      <td>9</td>\n",
       "      <td>✅ Trip Verified | BA 242 on the 6/2/23. Boardi...</td>\n",
       "    </tr>\n",
       "    <tr>\n",
       "      <th>3</th>\n",
       "      <td>\\n\\nAdam Churchill (Spain) 6th February 2023</td>\n",
       "      <td>10</td>\n",
       "      <td>✅ Trip Verified |  Not only my first flight in...</td>\n",
       "    </tr>\n",
       "    <tr>\n",
       "      <th>4</th>\n",
       "      <td>\\n\\nMaria del Carmen Riesco Martin (United Kin...</td>\n",
       "      <td>10</td>\n",
       "      <td>✅ Trip Verified |  My husband and myself were ...</td>\n",
       "    </tr>\n",
       "  </tbody>\n",
       "</table>\n",
       "</div>"
      ],
      "text/plain": [
       "                                      test_subheader ratings  \\\n",
       "0  \\n\\nAbs Ahmed (United Kingdom) 16th February 2023       8   \n",
       "1       \\n\\nArsham Parsi (Canada) 15th February 2023       1   \n",
       "2    \\n\\nKeat Tan (United Kingdom) 7th February 2023       9   \n",
       "3       \\n\\nAdam Churchill (Spain) 6th February 2023      10   \n",
       "4  \\n\\nMaria del Carmen Riesco Martin (United Kin...      10   \n",
       "\n",
       "                                             reviews  \n",
       "0  ✅ Trip Verified | This was my first time flyin...  \n",
       "1  ✅ Trip Verified |  Lots of cancellations and d...  \n",
       "2  ✅ Trip Verified | BA 242 on the 6/2/23. Boardi...  \n",
       "3  ✅ Trip Verified |  Not only my first flight in...  \n",
       "4  ✅ Trip Verified |  My husband and myself were ...  "
      ]
     },
     "execution_count": 5,
     "metadata": {},
     "output_type": "execute_result"
    }
   ],
   "source": [
    "#Preparing initial Dataframe with raw data\n",
    "df = pd.DataFrame()\n",
    "df[\"test_subheader\"] = text_subheader\n",
    "df[\"ratings\"] = rating_values_updated\n",
    "df[\"reviews\"] = reviews\n",
    "df.head()"
   ]
  },
  {
   "cell_type": "code",
   "execution_count": 6,
   "id": "d0f6de92",
   "metadata": {},
   "outputs": [],
   "source": [
    "#Saving DataFrame to .csv\n",
    "df.to_csv(\"BA_reviews.csv\")"
   ]
  },
  {
   "cell_type": "code",
   "execution_count": null,
   "id": "a8ed496e",
   "metadata": {},
   "outputs": [],
   "source": []
  }
 ],
 "metadata": {
  "kernelspec": {
   "display_name": "Python 3 (ipykernel)",
   "language": "python",
   "name": "python3"
  },
  "language_info": {
   "codemirror_mode": {
    "name": "ipython",
    "version": 3
   },
   "file_extension": ".py",
   "mimetype": "text/x-python",
   "name": "python",
   "nbconvert_exporter": "python",
   "pygments_lexer": "ipython3",
   "version": "3.9.13"
  }
 },
 "nbformat": 4,
 "nbformat_minor": 5
}
